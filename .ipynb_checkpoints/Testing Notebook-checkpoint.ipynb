{
 "cells": [
  {
   "cell_type": "code",
   "execution_count": 1,
   "metadata": {},
   "outputs": [
    {
     "ename": "NameError",
     "evalue": "name 'twitter_screen_name' is not defined",
     "output_type": "error",
     "traceback": [
      "\u001b[1;31m---------------------------------------------------------------------------\u001b[0m",
      "\u001b[1;31mNameError\u001b[0m                                 Traceback (most recent call last)",
      "\u001b[1;32m<ipython-input-1-616790683910>\u001b[0m in \u001b[0;36m<module>\u001b[1;34m\u001b[0m\n\u001b[0;32m     26\u001b[0m     \u001b[0mconfig_data\u001b[0m \u001b[1;33m=\u001b[0m \u001b[0mjson\u001b[0m\u001b[1;33m.\u001b[0m\u001b[0mload\u001b[0m\u001b[1;33m(\u001b[0m\u001b[0mconfig_file\u001b[0m\u001b[1;33m)\u001b[0m\u001b[1;33m\u001b[0m\u001b[0m\n\u001b[0;32m     27\u001b[0m \u001b[1;33m\u001b[0m\u001b[0m\n\u001b[1;32m---> 28\u001b[1;33m \u001b[0mscreen_name\u001b[0m \u001b[1;33m=\u001b[0m \u001b[0mconfig_data\u001b[0m\u001b[1;33m[\u001b[0m\u001b[0mtwitter_screen_name\u001b[0m\u001b[1;33m]\u001b[0m\u001b[1;33m[\u001b[0m\u001b[1;34m\"auth\"\u001b[0m\u001b[1;33m]\u001b[0m\u001b[1;33m[\u001b[0m\u001b[1;34m\"screen_name\"\u001b[0m\u001b[1;33m]\u001b[0m\u001b[1;33m\u001b[0m\u001b[0m\n\u001b[0m\u001b[0;32m     29\u001b[0m \u001b[0munfollow_after_hours\u001b[0m \u001b[1;33m=\u001b[0m \u001b[0mconfig_data\u001b[0m\u001b[1;33m[\u001b[0m\u001b[0mtwitter_screen_name\u001b[0m\u001b[1;33m]\u001b[0m\u001b[1;33m[\u001b[0m\u001b[1;34m\"unfollow_after_hours\"\u001b[0m\u001b[1;33m]\u001b[0m\u001b[1;33m\u001b[0m\u001b[0m\n\u001b[0;32m     30\u001b[0m \u001b[1;33m\u001b[0m\u001b[0m\n",
      "\u001b[1;31mNameError\u001b[0m: name 'twitter_screen_name' is not defined"
     ]
    }
   ],
   "source": [
    "import os\n",
    "import json\n",
    "import tweepy\n",
    "import twitter\n",
    "import pandas as pd\n",
    "import datetime\n",
    "from datetime import datetime, timedelta\n",
    "from dateutil import relativedelta\n",
    "import matplotlib.pyplot as plt\n",
    "import time\n",
    "import numpy as np\n",
    "#import matplotlib.mlab as mlab\n",
    "from time import sleep\n",
    "from re import search\n",
    "from itertools import cycle\n",
    "from random import shuffle\n",
    "\n",
    "screen_name = \"chirpbirding\"\n",
    "\n",
    "# creates the file path to the log folder\n",
    "BASE_DIR = os.getcwd()\n",
    "log_location = os.path.join(BASE_DIR, 'logs/{}/'.format(\"chirpbirding\"))\n",
    "\n",
    "# gets all of our data from the config file.\n",
    "with open('config.json', 'r') as config_file:\n",
    "    config_data = json.load(config_file)\n",
    "\n",
    "screen_name = config_data[twitter_screen_name][\"auth\"][\"screen_name\"]\n",
    "unfollow_after_hours = config_data[twitter_screen_name][\"unfollow_after_hours\"]\n",
    "\n",
    "# authorization for tweepy\n",
    "auth = tweepy.OAuthHandler(config_data[twitter_screen_name][\"auth\"][\"CONSUMER_KEY\"], config_data[twitter_screen_name][\"auth\"][\"CONSUMER_SECRET\"])\n",
    "auth.set_access_token(config_data[twitter_screen_name][\"auth\"][\"ACCESS_TOKEN\"], config_data[twitter_screen_name][\"auth\"][\"ACCESS_SECRET\"])\n",
    "api = tweepy.API(auth)\n",
    "\n",
    "# authorization for python-twitter (using for messaging)\n",
    "twitterapi = twitter.Api(consumer_key=config_data[twitter_screen_name][\"auth\"][\"CONSUMER_KEY\"],\n",
    "                      consumer_secret=config_data[twitter_screen_name][\"auth\"][\"CONSUMER_SECRET\"],\n",
    "                      access_token_key=config_data[twitter_screen_name][\"auth\"][\"ACCESS_TOKEN\"],\n",
    "                      access_token_secret=config_data[twitter_screen_name][\"auth\"][\"ACCESS_SECRET\"])"
   ]
  },
  {
   "cell_type": "code",
   "execution_count": 2,
   "metadata": {},
   "outputs": [
    {
     "ename": "NameError",
     "evalue": "name 'api' is not defined",
     "output_type": "error",
     "traceback": [
      "\u001b[1;31m---------------------------------------------------------------------------\u001b[0m",
      "\u001b[1;31mNameError\u001b[0m                                 Traceback (most recent call last)",
      "\u001b[1;32m<ipython-input-2-dbeed7a96b3d>\u001b[0m in \u001b[0;36m<module>\u001b[1;34m\u001b[0m\n\u001b[1;32m----> 1\u001b[1;33m search_results = api.search(\n\u001b[0m\u001b[0;32m      2\u001b[0m     \u001b[0mq\u001b[0m\u001b[1;33m=\u001b[0m\u001b[1;34m\"birding\"\u001b[0m\u001b[1;33m,\u001b[0m\u001b[1;33m\u001b[0m\u001b[0m\n\u001b[0;32m      3\u001b[0m     \u001b[0mcount\u001b[0m\u001b[1;33m=\u001b[0m\u001b[1;36m2\u001b[0m\u001b[1;33m,\u001b[0m\u001b[1;33m\u001b[0m\u001b[0m\n\u001b[0;32m      4\u001b[0m     \u001b[0mlang\u001b[0m\u001b[1;33m=\u001b[0m\u001b[0mconfig_data\u001b[0m\u001b[1;33m[\u001b[0m\u001b[0mscreen_name\u001b[0m\u001b[1;33m]\u001b[0m\u001b[1;33m[\u001b[0m\u001b[1;34m\"lang\"\u001b[0m\u001b[1;33m]\u001b[0m\u001b[1;33m,\u001b[0m\u001b[1;33m\u001b[0m\u001b[0m\n\u001b[0;32m      5\u001b[0m     since_id=max_tweet_id_for_hashtag)\n",
      "\u001b[1;31mNameError\u001b[0m: name 'api' is not defined"
     ]
    }
   ],
   "source": [
    "search_results = api.search(\n",
    "    q=\"birding\",\n",
    "    count=2,\n",
    "    lang=config_data[screen_name][\"lang\"],\n",
    "    since_id=max_tweet_id_for_hashtag)\n",
    "# extract tweet ids and user data from tweets\n",
    "searched_tweet_ids = [tweet.id for tweet in search_results]\n",
    "searched_tweet_user_data = [tweet._json for tweet in search_results]\n"
   ]
  },
  {
   "cell_type": "code",
   "execution_count": null,
   "metadata": {},
   "outputs": [],
   "source": []
  },
  {
   "cell_type": "code",
   "execution_count": null,
   "metadata": {},
   "outputs": [],
   "source": [
    "# import users followed previously by TwitBot\n",
    "        liked_tweets_df = pd.DataFrame(pd.read_csv('{}liked_tweets.csv'.format(log_location)))\n",
    "        liked_tweet_ids_list = liked_tweets_df['tweet_id'].tolist()\n",
    "        new_tweet_ids = list(set(searched_tweet_ids) - set(liked_tweet_ids_list))\n",
    "\n",
    "        searched_hashtag = i\n",
    "        liked_tweets_list = []\n",
    "\n",
    "        # only follows 100 of each keyword to avoid following non-relevant users.\n",
    "        print('\\n{} Starting to like users who tweeted \\'{}\\''.format(datetime.now().strftime('%d-%m-%Y %H:%M:%S'),i))\n",
    "        for i in range(0, len(new_tweet_ids) - 1):\n",
    "            # search to see if a tweet has already been liked and then ignore if it has.\n",
    "            try:\n",
    "                # Don't like if the user is in Blacklisted users list\n",
    "                if searched_tweet_user_data[i]['user']['id'] in blacklisted_users:\n",
    "                \tbreak\n",
    "                api.create_favorite(new_tweet_ids[i])\n",
    "                # get user and tweet data for post analysis\n",
    "                tweet_id = new_tweet_ids[i]\n",
    "                tweet_date_time = searched_tweet_user_data[i]['created_at']\n",
    "                #searched_hashtag = i\n",
    "                liked_screen_name = searched_tweet_user_data[i]['user']['screen_name']\n",
    "                user_id = searched_tweet_user_data[i]['user']['id']\n",
    "                follows_me = liked_screen_name in followers\n",
    "                user_location = searched_tweet_user_data[i]['user']['location'].replace(',','')\n",
    "                followers_count = searched_tweet_user_data[i]['user']['followers_count']\n",
    "                friends_count = searched_tweet_user_data[i]['user']['friends_count']\n",
    "                favourites_count = searched_tweet_user_data[i]['user']['favourites_count']\n",
    "                statuses_count = searched_tweet_user_data[i]['user']['statuses_count']\n",
    "                tweet_likes = searched_tweet_user_data[i]['favorite_count']\n",
    "                tweet_text = ' '#searched_tweet_user_data[i]['text']\n",
    "                liked_tweet = ('{},{},{},{},{},{},{},{},{},{},{},{},{},{}'.format(\n",
    "                    tweet_id,\n",
    "                    datetime.now().strftime('%Y-%m-%d %H:%M:%S'),\n",
    "                    tweet_date_time,\n",
    "                    searched_hashtag,\n",
    "                    liked_screen_name,\n",
    "                    user_id,\n",
    "                    follows_me,\n",
    "                    user_location,\n",
    "                    followers_count,\n",
    "                    friends_count,\n",
    "                    favourites_count,\n",
    "                    statuses_count,\n",
    "                    tweet_likes,\n",
    "                    tweet_text))\n",
    "                liked_tweets_list += [liked_tweet]\n",
    "\n",
    "                total_followed += 1\n",
    "                if total_followed % 10 == 0:\n",
    "                    print(str(total_followed) + ' tweets liked so far.')\n",
    "                print('Liked tweet by {}. Sleeping 12 seconds.'.format(liked_screen_name))\n",
    "                sleep(12)\n",
    "            except (tweepy.RateLimitError, tweepy.TweepError) as e:\n",
    "                print(new_tweet_ids[i])\n",
    "                error_handling(e)\n",
    "        with open('{}liked_tweets.csv'.format(log_location), 'a', encoding=\"utf-8\") as liked_tweetsFile:\n",
    "            for i in liked_tweets_list:\n",
    "                liked_tweetsFile.write(\"%s\\n\" % str(i))\n",
    "        print('Total tweets liked: {}\\n'.format(total_followed))\n",
    "        print('Taking a quick 20 second snooze')\n",
    "        sleep(20)\n",
    "        print('\\nYawn... OK, ready to go :)\\n')\n",
    "    return total_followed"
   ]
  }
 ],
 "metadata": {
  "kernelspec": {
   "display_name": "Python 3",
   "language": "python",
   "name": "python3"
  },
  "language_info": {
   "codemirror_mode": {
    "name": "ipython",
    "version": 3
   },
   "file_extension": ".py",
   "mimetype": "text/x-python",
   "name": "python",
   "nbconvert_exporter": "python",
   "pygments_lexer": "ipython3",
   "version": "3.7.0"
  }
 },
 "nbformat": 4,
 "nbformat_minor": 2
}
